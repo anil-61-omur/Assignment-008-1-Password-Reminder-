{
  "nbformat": 4,
  "nbformat_minor": 0,
  "metadata": {
    "colab": {
      "name": "Untitled14.ipynb",
      "provenance": [],
      "authorship_tag": "ABX9TyOl6PHey3DxOscElNOOoGQz",
      "include_colab_link": true
    },
    "kernelspec": {
      "name": "python3",
      "display_name": "Python 3"
    },
    "language_info": {
      "name": "python"
    }
  },
  "cells": [
    {
      "cell_type": "markdown",
      "metadata": {
        "id": "view-in-github",
        "colab_type": "text"
      },
      "source": [
        "<a href=\"https://colab.research.google.com/github/anil-61-omur/Assignment-008-1-Password-Reminder-/blob/main/Untitled14.ipynb\" target=\"_parent\"><img src=\"https://colab.research.google.com/assets/colab-badge.svg\" alt=\"Open In Colab\"/></a>"
      ]
    },
    {
      "cell_type": "code",
      "metadata": {
        "colab": {
          "base_uri": "https://localhost:8080/"
        },
        "id": "V763tOMx2CAH",
        "outputId": "60edbae5-74b3-46c4-aeee-4dcf512f1142"
      },
      "source": [
        "name = str(input(\"lütfen isminizi yazınız: \"))\n",
        "password = str(input(\"lütfen şifrenizi belirleyin: \"))\n",
        "new_user = str(input(\"hoşgeldiniz lütfen isminizi giriniz: \"))\n",
        "if new_user == name :\n",
        "    print(\"Hello {}!The password is: {}\".format(new_user,password))\n",
        "else:\n",
        "    print(\"Hello Amina!See you later.\")    "
      ],
      "execution_count": null,
      "outputs": [
        {
          "output_type": "stream",
          "text": [
            "lütfen isminizi yazınız: joseph\n",
            "lütfen şifrenizi belirleyin: 1234\n",
            "hoşgeldiniz lütfen isminizi giriniz: joseph\n",
            "Hello joseph!The password is: 1234\n"
          ],
          "name": "stdout"
        }
      ]
    },
    {
      "cell_type": "code",
      "metadata": {
        "id": "fdZoT3h46z7f"
      },
      "source": [
        "\n",
        "\n"
      ],
      "execution_count": 22,
      "outputs": []
    },
    {
      "cell_type": "code",
      "metadata": {
        "id": "fechmvDfKOML"
      },
      "source": [
        ""
      ],
      "execution_count": 22,
      "outputs": []
    },
    {
      "cell_type": "code",
      "metadata": {
        "id": "YQGj0HSZKOUr"
      },
      "source": [
        ""
      ],
      "execution_count": null,
      "outputs": []
    },
    {
      "cell_type": "code",
      "metadata": {
        "id": "dXML_VpWKOXp"
      },
      "source": [
        ""
      ],
      "execution_count": null,
      "outputs": []
    }
  ]
}